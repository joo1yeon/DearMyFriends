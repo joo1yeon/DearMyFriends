{
 "cells": [
  {
   "cell_type": "markdown",
   "metadata": {},
   "source": [
    "# 모듈 불러오기"
   ]
  },
  {
   "cell_type": "code",
   "execution_count": 1,
   "metadata": {},
   "outputs": [],
   "source": [
    "from selenium import webdriver as wd\n",
    "from selenium.webdriver.common.keys import Keys\n",
    "from bs4 import BeautifulSoup\n",
    "import pandas as pd\n",
    "from tqdm import tqdm\n",
    "import time\n",
    "from IPython.core.interactiveshell import InteractiveShell\n",
    "InteractiveShell.ast_node_interactivity = \"all\""
   ]
  },
  {
   "cell_type": "markdown",
   "metadata": {},
   "source": [
    "## 개인 pc 의 chromedriver.exe 의 주소로 설정해야함\n",
    "* chromedriver 설치 필요"
   ]
  },
  {
   "cell_type": "code",
   "execution_count": null,
   "metadata": {},
   "outputs": [],
   "source": [
    "driver = wd.Chrome('C:/Users/user/chromedriver.exe')"
   ]
  },
  {
   "cell_type": "markdown",
   "metadata": {},
   "source": [
    "# 리뷰 크롤링하기"
   ]
  },
  {
   "cell_type": "code",
   "execution_count": 174,
   "metadata": {},
   "outputs": [
    {
     "name": "stderr",
     "output_type": "stream",
     "text": [
      "100%|████████████████████████████████████████████████████████████████████████████████| 500/500 [00:56<00:00,  8.84it/s]\n"
     ]
    }
   ],
   "source": [
    "############################ 예매 사이트로 이동 ############################\n",
    "url = 'https://booking.naver.com/review/bizes/421150'\n",
    "driver.get(url)\n",
    "time.sleep(2)\n",
    "\n",
    "html = driver.page_source\n",
    "soup = BeautifulSoup(html, 'html.parser')\n",
    "\n",
    "################################ 페이지 뽑기################################\n",
    "################## 수동으로 지정할 시 for문 범위 직접 변경 #################\n",
    "page = soup.find_all('span',{'ng-bind':'$ctrl.lastPage'}); \n",
    "for x in page:\n",
    "    page = x.get_text()\n",
    "\n",
    "################################## 크롤링 ##################################\n",
    "# 리뷰 내용, 작성자 ID, 방문 날짜\n",
    "review = []; review_id = []; review_date = []; \n",
    "\n",
    "for y in tqdm(range(0,int(page))):\n",
    "    \n",
    "    html = driver.page_source\n",
    "    soup = BeautifulSoup(html, 'html.parser')\n",
    "\n",
    "    # 리뷰 내용\n",
    "    w = soup.find_all('p',{'class':'review'})\n",
    "    for x in w:\n",
    "        review.append(x.get_text())\n",
    "\n",
    "    # 작성자 ID\n",
    "    w = soup.find_all('span',{'class':'name'})\n",
    "    for x in w:\n",
    "        # 주최측에서 답변을 단 경우, 답변에 해당하는 내용은 저장X\n",
    "        if '그날들' not in x.get_text():\n",
    "            review_id.append(x.get_text())\n",
    "\n",
    "    # 방문 날짜\n",
    "    w = soup.find_all('span',{'ng-bind': '$ctrl.getVisitDate(item.completedDateTime || item.useDate)'}); \n",
    "    for x in w:\n",
    "        review_date.append(x.get_text())\n",
    "        \n",
    "    # 페이지 넘기기 위해 페이지 xpath 주소 저장\n",
    "    next_page = driver.find_element_by_xpath('//*[@id=\"container\"]/review-list/div/div/div/div[2]/a[2]')\n",
    "    # review 변수에 저장된 곳 클릭\n",
    "    next_page.send_keys(Keys.ENTER)"
   ]
  },
  {
   "cell_type": "code",
   "execution_count": 166,
   "metadata": {
    "scrolled": true
   },
   "outputs": [
    {
     "data": {
      "text/plain": [
       "900"
      ]
     },
     "execution_count": 166,
     "metadata": {},
     "output_type": "execute_result"
    },
    {
     "data": {
      "text/plain": [
       "900"
      ]
     },
     "execution_count": 166,
     "metadata": {},
     "output_type": "execute_result"
    },
    {
     "data": {
      "text/plain": [
       "900"
      ]
     },
     "execution_count": 166,
     "metadata": {},
     "output_type": "execute_result"
    }
   ],
   "source": [
    "# 제대로 뽑혔는지 확인\n",
    "len(review_id);len(review); len(review_date)"
   ]
  },
  {
   "cell_type": "markdown",
   "metadata": {},
   "source": [
    "## 부족한거 채우기"
   ]
  },
  {
   "cell_type": "code",
   "execution_count": 169,
   "metadata": {},
   "outputs": [],
   "source": [
    "# 공연명, 공연 장소, 공연 기간, 공연 시간, 관람 연령, 가격, 장르\n",
    "name = []; place = []; period = []; runTime = []; age = []; price = []; genre = [];\n",
    "\n",
    "for x in range(len(review)):\n",
    "    name.append('그날들')\n",
    "    place.append('충무아트센터 대극장')\n",
    "    period.append('2020.11.13 ~ 2021.03.07')\n",
    "    runTime.append('165분')\n",
    "    age.append('8세이상')\n",
    "    price.append('R석 120,000원 S석 80,000원 A석 50,000원')\n",
    "    genre.append('뮤지컬')"
   ]
  },
  {
   "cell_type": "code",
   "execution_count": 170,
   "metadata": {},
   "outputs": [],
   "source": [
    "# 맨 처음만\n",
    "a = review; \n",
    "b = review_id;\n",
    "c = review_date;\n",
    "d = name;\n",
    "e = place;\n",
    "f = period;\n",
    "g = runTime;\n",
    "h = age;\n",
    "i = price;\n",
    "j = genre;"
   ]
  },
  {
   "cell_type": "code",
   "execution_count": 137,
   "metadata": {},
   "outputs": [],
   "source": [
    "# 처음 이후\n",
    "a += review; \n",
    "b += review_id;\n",
    "c += review_date;\n",
    "d += name;\n",
    "e += place;\n",
    "f += period;\n",
    "g += runTime;\n",
    "h += age;\n",
    "i += price;\n",
    "j += genre;"
   ]
  },
  {
   "cell_type": "code",
   "execution_count": 177,
   "metadata": {},
   "outputs": [
    {
     "data": {
      "text/plain": [
       "690"
      ]
     },
     "execution_count": 177,
     "metadata": {},
     "output_type": "execute_result"
    },
    {
     "data": {
      "text/plain": [
       "690"
      ]
     },
     "execution_count": 177,
     "metadata": {},
     "output_type": "execute_result"
    },
    {
     "data": {
      "text/plain": [
       "690"
      ]
     },
     "execution_count": 177,
     "metadata": {},
     "output_type": "execute_result"
    },
    {
     "data": {
      "text/plain": [
       "690"
      ]
     },
     "execution_count": 177,
     "metadata": {},
     "output_type": "execute_result"
    },
    {
     "data": {
      "text/plain": [
       "690"
      ]
     },
     "execution_count": 177,
     "metadata": {},
     "output_type": "execute_result"
    },
    {
     "data": {
      "text/plain": [
       "690"
      ]
     },
     "execution_count": 177,
     "metadata": {},
     "output_type": "execute_result"
    },
    {
     "data": {
      "text/plain": [
       "690"
      ]
     },
     "execution_count": 177,
     "metadata": {},
     "output_type": "execute_result"
    },
    {
     "data": {
      "text/plain": [
       "690"
      ]
     },
     "execution_count": 177,
     "metadata": {},
     "output_type": "execute_result"
    },
    {
     "data": {
      "text/plain": [
       "690"
      ]
     },
     "execution_count": 177,
     "metadata": {},
     "output_type": "execute_result"
    },
    {
     "data": {
      "text/plain": [
       "690"
      ]
     },
     "execution_count": 177,
     "metadata": {},
     "output_type": "execute_result"
    },
    {
     "data": {
      "text/plain": [
       "list"
      ]
     },
     "execution_count": 177,
     "metadata": {},
     "output_type": "execute_result"
    },
    {
     "data": {
      "text/plain": [
       "list"
      ]
     },
     "execution_count": 177,
     "metadata": {},
     "output_type": "execute_result"
    },
    {
     "data": {
      "text/plain": [
       "list"
      ]
     },
     "execution_count": 177,
     "metadata": {},
     "output_type": "execute_result"
    },
    {
     "data": {
      "text/plain": [
       "list"
      ]
     },
     "execution_count": 177,
     "metadata": {},
     "output_type": "execute_result"
    },
    {
     "data": {
      "text/plain": [
       "list"
      ]
     },
     "execution_count": 177,
     "metadata": {},
     "output_type": "execute_result"
    },
    {
     "data": {
      "text/plain": [
       "list"
      ]
     },
     "execution_count": 177,
     "metadata": {},
     "output_type": "execute_result"
    },
    {
     "data": {
      "text/plain": [
       "list"
      ]
     },
     "execution_count": 177,
     "metadata": {},
     "output_type": "execute_result"
    },
    {
     "data": {
      "text/plain": [
       "list"
      ]
     },
     "execution_count": 177,
     "metadata": {},
     "output_type": "execute_result"
    },
    {
     "data": {
      "text/plain": [
       "list"
      ]
     },
     "execution_count": 177,
     "metadata": {},
     "output_type": "execute_result"
    },
    {
     "data": {
      "text/plain": [
       "list"
      ]
     },
     "execution_count": 177,
     "metadata": {},
     "output_type": "execute_result"
    }
   ],
   "source": [
    "# 제대로 뽑혔는지 확인\n",
    "len(a); len(b); len(c); len(d); len(e); len(f); len(g); len(h); len(i); len(j)\n",
    "type(a); type(b); type(c); type(d); type(e); type(f); type(g); type(h); type(i); type(j)"
   ]
  },
  {
   "cell_type": "markdown",
   "metadata": {},
   "source": [
    "# 데이터 프레임에 저장"
   ]
  },
  {
   "cell_type": "code",
   "execution_count": 175,
   "metadata": {},
   "outputs": [],
   "source": [
    "df = pd.DataFrame({ '공연명': d,\n",
    "                    '공연 장소': e,\n",
    "                    '공연 기간':f,\n",
    "                    '공연 시간': g,\n",
    "                    '관람 연령':h,\n",
    "                    '가격':i,\n",
    "                    '장르': j,\n",
    "                    '리뷰 내용':a,\n",
    "                    '예약자ID':b,\n",
    "                    '방문 날짜':c})"
   ]
  },
  {
   "cell_type": "markdown",
   "metadata": {},
   "source": [
    "# 엑셀 저장"
   ]
  },
  {
   "cell_type": "code",
   "execution_count": 178,
   "metadata": {},
   "outputs": [],
   "source": [
    "df.to_excel('C:/Users/user/정세영/review_crawling.xlsx')"
   ]
  }
 ],
 "metadata": {
  "kernelspec": {
   "display_name": "Python 3",
   "language": "python",
   "name": "python3"
  },
  "language_info": {
   "codemirror_mode": {
    "name": "ipython",
    "version": 3
   },
   "file_extension": ".py",
   "mimetype": "text/x-python",
   "name": "python",
   "nbconvert_exporter": "python",
   "pygments_lexer": "ipython3",
   "version": "3.8.5"
  },
  "toc": {
   "base_numbering": 1,
   "nav_menu": {},
   "number_sections": true,
   "sideBar": true,
   "skip_h1_title": false,
   "title_cell": "Table of Contents",
   "title_sidebar": "Contents",
   "toc_cell": false,
   "toc_position": {
    "height": "calc(100% - 180px)",
    "left": "10px",
    "top": "150px",
    "width": "238.975px"
   },
   "toc_section_display": true,
   "toc_window_display": true
  },
  "varInspector": {
   "cols": {
    "lenName": 16,
    "lenType": 16,
    "lenVar": 40
   },
   "kernels_config": {
    "python": {
     "delete_cmd_postfix": "",
     "delete_cmd_prefix": "del ",
     "library": "var_list.py",
     "varRefreshCmd": "print(var_dic_list())"
    },
    "r": {
     "delete_cmd_postfix": ") ",
     "delete_cmd_prefix": "rm(",
     "library": "var_list.r",
     "varRefreshCmd": "cat(var_dic_list()) "
    }
   },
   "types_to_exclude": [
    "module",
    "function",
    "builtin_function_or_method",
    "instance",
    "_Feature"
   ],
   "window_display": false
  }
 },
 "nbformat": 4,
 "nbformat_minor": 2
}
