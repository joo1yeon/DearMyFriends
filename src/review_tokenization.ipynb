{
 "cells": [
  {
   "cell_type": "markdown",
   "metadata": {},
   "source": [
    "# 라이브러리 불러오기"
   ]
  },
  {
   "cell_type": "code",
   "execution_count": 1,
   "metadata": {},
   "outputs": [],
   "source": [
    "import pandas as pd\n",
    "import pickle\n",
    "from tqdm import tqdm\n",
    "import time\n",
    "import re"
   ]
  },
  {
   "cell_type": "markdown",
   "metadata": {},
   "source": [
    "# 파일 불러오기\n",
    "* 방문 날짜가 2020년으로만 되어있는 리뷰들"
   ]
  },
  {
   "cell_type": "code",
   "execution_count": 2,
   "metadata": {},
   "outputs": [],
   "source": [
    "raw = pd.read_excel('review_crawling_final.xlsx')"
   ]
  },
  {
   "cell_type": "code",
   "execution_count": 3,
   "metadata": {},
   "outputs": [
    {
     "data": {
      "text/html": [
       "<div>\n",
       "<style scoped>\n",
       "    .dataframe tbody tr th:only-of-type {\n",
       "        vertical-align: middle;\n",
       "    }\n",
       "\n",
       "    .dataframe tbody tr th {\n",
       "        vertical-align: top;\n",
       "    }\n",
       "\n",
       "    .dataframe thead th {\n",
       "        text-align: right;\n",
       "    }\n",
       "</style>\n",
       "<table border=\"1\" class=\"dataframe\">\n",
       "  <thead>\n",
       "    <tr style=\"text-align: right;\">\n",
       "      <th></th>\n",
       "      <th>Unnamed: 0</th>\n",
       "      <th>공연명</th>\n",
       "      <th>공연 장소</th>\n",
       "      <th>공연 기간</th>\n",
       "      <th>공연 시간</th>\n",
       "      <th>관람 연령</th>\n",
       "      <th>가격</th>\n",
       "      <th>장르</th>\n",
       "      <th>리뷰 내용</th>\n",
       "      <th>예약자ID</th>\n",
       "      <th>방문 날짜</th>\n",
       "    </tr>\n",
       "  </thead>\n",
       "  <tbody>\n",
       "    <tr>\n",
       "      <th>0</th>\n",
       "      <td>0</td>\n",
       "      <td>장화 신은 고양이 비긴즈</td>\n",
       "      <td>국립중앙박물관 극장 용</td>\n",
       "      <td>2019.12.14 ~ 2020.02.09</td>\n",
       "      <td>70분</td>\n",
       "      <td>36개월이상</td>\n",
       "      <td>66,000원</td>\n",
       "      <td>뮤지컬</td>\n",
       "      <td>11세되는 아이는 조금 지루해보였는데 마지막에 커튼콜후에 다같이 춤추며 노래하며 ...</td>\n",
       "      <td>rlqm****</td>\n",
       "      <td>2020. 2. 3</td>\n",
       "    </tr>\n",
       "    <tr>\n",
       "      <th>1</th>\n",
       "      <td>1</td>\n",
       "      <td>장화 신은 고양이 비긴즈</td>\n",
       "      <td>국립중앙박물관 극장 용</td>\n",
       "      <td>2019.12.14 ~ 2020.02.09</td>\n",
       "      <td>70분</td>\n",
       "      <td>36개월이상</td>\n",
       "      <td>66,000원</td>\n",
       "      <td>뮤지컬</td>\n",
       "      <td>아이들이 즐거워 했어요</td>\n",
       "      <td>huni****</td>\n",
       "      <td>2020. 2. 3</td>\n",
       "    </tr>\n",
       "    <tr>\n",
       "      <th>2</th>\n",
       "      <td>2</td>\n",
       "      <td>장화 신은 고양이 비긴즈</td>\n",
       "      <td>국립중앙박물관 극장 용</td>\n",
       "      <td>2019.12.14 ~ 2020.02.09</td>\n",
       "      <td>70분</td>\n",
       "      <td>36개월이상</td>\n",
       "      <td>66,000원</td>\n",
       "      <td>뮤지컬</td>\n",
       "      <td>아이가 재미있어 하네요.</td>\n",
       "      <td>best****</td>\n",
       "      <td>2020. 2. 3</td>\n",
       "    </tr>\n",
       "    <tr>\n",
       "      <th>3</th>\n",
       "      <td>3</td>\n",
       "      <td>장화 신은 고양이 비긴즈</td>\n",
       "      <td>국립중앙박물관 극장 용</td>\n",
       "      <td>2019.12.14 ~ 2020.02.09</td>\n",
       "      <td>70분</td>\n",
       "      <td>36개월이상</td>\n",
       "      <td>66,000원</td>\n",
       "      <td>뮤지컬</td>\n",
       "      <td>퀄리티가 매우 높았어요!! 무대 구성이나 배우들의 안무 노래 퀄리티가 매우 좋아서...</td>\n",
       "      <td>kw****</td>\n",
       "      <td>2020. 2. 3</td>\n",
       "    </tr>\n",
       "    <tr>\n",
       "      <th>4</th>\n",
       "      <td>4</td>\n",
       "      <td>장화 신은 고양이 비긴즈</td>\n",
       "      <td>국립중앙박물관 극장 용</td>\n",
       "      <td>2019.12.14 ~ 2020.02.09</td>\n",
       "      <td>70분</td>\n",
       "      <td>36개월이상</td>\n",
       "      <td>66,000원</td>\n",
       "      <td>뮤지컬</td>\n",
       "      <td>취소할까하다. 마스크쓰고 봤네요 ^^ 아이가 넘 좋아해요. 커튼콜 촬영가능하고 아...</td>\n",
       "      <td>byeo*****</td>\n",
       "      <td>2020. 2. 3</td>\n",
       "    </tr>\n",
       "    <tr>\n",
       "      <th>...</th>\n",
       "      <td>...</td>\n",
       "      <td>...</td>\n",
       "      <td>...</td>\n",
       "      <td>...</td>\n",
       "      <td>...</td>\n",
       "      <td>...</td>\n",
       "      <td>...</td>\n",
       "      <td>...</td>\n",
       "      <td>...</td>\n",
       "      <td>...</td>\n",
       "      <td>...</td>\n",
       "    </tr>\n",
       "    <tr>\n",
       "      <th>7275</th>\n",
       "      <td>7275</td>\n",
       "      <td>더 북 - 성경이 된 사람들</td>\n",
       "      <td>광야아트센터</td>\n",
       "      <td>2021.01.09 ~ 2021.03.01</td>\n",
       "      <td>165분</td>\n",
       "      <td>만 7세이상</td>\n",
       "      <td>35,000원</td>\n",
       "      <td>뮤지컬</td>\n",
       "      <td>기도합니다.</td>\n",
       "      <td>wsun*****</td>\n",
       "      <td>2020. 10. 18</td>\n",
       "    </tr>\n",
       "    <tr>\n",
       "      <th>7276</th>\n",
       "      <td>7276</td>\n",
       "      <td>더 북 - 성경이 된 사람들</td>\n",
       "      <td>광야아트센터</td>\n",
       "      <td>2021.01.09 ~ 2021.03.01</td>\n",
       "      <td>165분</td>\n",
       "      <td>만 7세이상</td>\n",
       "      <td>35,000원</td>\n",
       "      <td>뮤지컬</td>\n",
       "      <td>정말 감동 그 자체입니다.초등학교4학년 딸아이와 아이친구를 데리고 가서 봤는데 아...</td>\n",
       "      <td>ebbu***</td>\n",
       "      <td>2020. 10. 18</td>\n",
       "    </tr>\n",
       "    <tr>\n",
       "      <th>7277</th>\n",
       "      <td>7277</td>\n",
       "      <td>더 북 - 성경이 된 사람들</td>\n",
       "      <td>광야아트센터</td>\n",
       "      <td>2021.01.09 ~ 2021.03.01</td>\n",
       "      <td>165분</td>\n",
       "      <td>만 7세이상</td>\n",
       "      <td>35,000원</td>\n",
       "      <td>뮤지컬</td>\n",
       "      <td>생생한 성령의감동과 은혜가 넘쳤어요!</td>\n",
       "      <td>sori***</td>\n",
       "      <td>2020. 10. 18</td>\n",
       "    </tr>\n",
       "    <tr>\n",
       "      <th>7278</th>\n",
       "      <td>7278</td>\n",
       "      <td>더 북 - 성경이 된 사람들</td>\n",
       "      <td>광야아트센터</td>\n",
       "      <td>2021.01.09 ~ 2021.03.01</td>\n",
       "      <td>165분</td>\n",
       "      <td>만 7세이상</td>\n",
       "      <td>35,000원</td>\n",
       "      <td>뮤지컬</td>\n",
       "      <td>방역 소독 철저히 하고 입장했어요~뮤지컬 너무 퀄리티 좋았고 같이 관람한 언니도,...</td>\n",
       "      <td>idne*****</td>\n",
       "      <td>2020. 10. 18</td>\n",
       "    </tr>\n",
       "    <tr>\n",
       "      <th>7279</th>\n",
       "      <td>7279</td>\n",
       "      <td>더 북 - 성경이 된 사람들</td>\n",
       "      <td>광야아트센터</td>\n",
       "      <td>2021.01.09 ~ 2021.03.01</td>\n",
       "      <td>165분</td>\n",
       "      <td>만 7세이상</td>\n",
       "      <td>35,000원</td>\n",
       "      <td>뮤지컬</td>\n",
       "      <td>매번 공연 바뀔때마다 보고있는데요.너무 만족스럽고, 또 보러갈꺼에요.</td>\n",
       "      <td>love*****</td>\n",
       "      <td>2020. 10. 18</td>\n",
       "    </tr>\n",
       "  </tbody>\n",
       "</table>\n",
       "<p>7280 rows × 11 columns</p>\n",
       "</div>"
      ],
      "text/plain": [
       "      Unnamed: 0              공연명         공연 장소                    공연 기간  \\\n",
       "0              0    장화 신은 고양이 비긴즈  국립중앙박물관 극장 용  2019.12.14 ~ 2020.02.09   \n",
       "1              1    장화 신은 고양이 비긴즈  국립중앙박물관 극장 용  2019.12.14 ~ 2020.02.09   \n",
       "2              2    장화 신은 고양이 비긴즈  국립중앙박물관 극장 용  2019.12.14 ~ 2020.02.09   \n",
       "3              3    장화 신은 고양이 비긴즈  국립중앙박물관 극장 용  2019.12.14 ~ 2020.02.09   \n",
       "4              4    장화 신은 고양이 비긴즈  국립중앙박물관 극장 용  2019.12.14 ~ 2020.02.09   \n",
       "...          ...              ...           ...                      ...   \n",
       "7275        7275  더 북 - 성경이 된 사람들        광야아트센터  2021.01.09 ~ 2021.03.01   \n",
       "7276        7276  더 북 - 성경이 된 사람들        광야아트센터  2021.01.09 ~ 2021.03.01   \n",
       "7277        7277  더 북 - 성경이 된 사람들        광야아트센터  2021.01.09 ~ 2021.03.01   \n",
       "7278        7278  더 북 - 성경이 된 사람들        광야아트센터  2021.01.09 ~ 2021.03.01   \n",
       "7279        7279  더 북 - 성경이 된 사람들        광야아트센터  2021.01.09 ~ 2021.03.01   \n",
       "\n",
       "     공연 시간   관람 연령       가격   장르  \\\n",
       "0      70분  36개월이상  66,000원  뮤지컬   \n",
       "1      70분  36개월이상  66,000원  뮤지컬   \n",
       "2      70분  36개월이상  66,000원  뮤지컬   \n",
       "3      70분  36개월이상  66,000원  뮤지컬   \n",
       "4      70분  36개월이상  66,000원  뮤지컬   \n",
       "...    ...     ...      ...  ...   \n",
       "7275  165분  만 7세이상  35,000원  뮤지컬   \n",
       "7276  165분  만 7세이상  35,000원  뮤지컬   \n",
       "7277  165분  만 7세이상  35,000원  뮤지컬   \n",
       "7278  165분  만 7세이상  35,000원  뮤지컬   \n",
       "7279  165분  만 7세이상  35,000원  뮤지컬   \n",
       "\n",
       "                                                  리뷰 내용      예약자ID  \\\n",
       "0      11세되는 아이는 조금 지루해보였는데 마지막에 커튼콜후에 다같이 춤추며 노래하며 ...   rlqm****   \n",
       "1                                         아이들이 즐거워 했어요    huni****   \n",
       "2                                        아이가 재미있어 하네요.    best****   \n",
       "3      퀄리티가 매우 높았어요!! 무대 구성이나 배우들의 안무 노래 퀄리티가 매우 좋아서...     kw****   \n",
       "4      취소할까하다. 마스크쓰고 봤네요 ^^ 아이가 넘 좋아해요. 커튼콜 촬영가능하고 아...  byeo*****   \n",
       "...                                                 ...        ...   \n",
       "7275                                            기도합니다.   wsun*****   \n",
       "7276   정말 감동 그 자체입니다.초등학교4학년 딸아이와 아이친구를 데리고 가서 봤는데 아...    ebbu***   \n",
       "7277                              생생한 성령의감동과 은혜가 넘쳤어요!     sori***   \n",
       "7278   방역 소독 철저히 하고 입장했어요~뮤지컬 너무 퀄리티 좋았고 같이 관람한 언니도,...  idne*****   \n",
       "7279            매번 공연 바뀔때마다 보고있는데요.너무 만족스럽고, 또 보러갈꺼에요.   love*****   \n",
       "\n",
       "             방문 날짜  \n",
       "0       2020. 2. 3  \n",
       "1       2020. 2. 3  \n",
       "2       2020. 2. 3  \n",
       "3       2020. 2. 3  \n",
       "4       2020. 2. 3  \n",
       "...            ...  \n",
       "7275  2020. 10. 18  \n",
       "7276  2020. 10. 18  \n",
       "7277  2020. 10. 18  \n",
       "7278  2020. 10. 18  \n",
       "7279  2020. 10. 18  \n",
       "\n",
       "[7280 rows x 11 columns]"
      ]
     },
     "execution_count": 3,
     "metadata": {},
     "output_type": "execute_result"
    }
   ],
   "source": [
    "raw"
   ]
  },
  {
   "cell_type": "markdown",
   "metadata": {},
   "source": [
    "# 리뷰 텍스트 전처리"
   ]
  },
  {
   "cell_type": "code",
   "execution_count": 4,
   "metadata": {},
   "outputs": [],
   "source": [
    "raw_review = raw['리뷰 내용'].astype(str)"
   ]
  },
  {
   "cell_type": "code",
   "execution_count": 5,
   "metadata": {},
   "outputs": [
    {
     "data": {
      "text/plain": [
       "0        11세되는 아이는 조금 지루해보였는데 마지막에 커튼콜후에 다같이 춤추며 노래하며 ...\n",
       "1                                           아이들이 즐거워 했어요 \n",
       "2                                          아이가 재미있어 하네요. \n",
       "3        퀄리티가 매우 높았어요!! 무대 구성이나 배우들의 안무 노래 퀄리티가 매우 좋아서...\n",
       "4        취소할까하다. 마스크쓰고 봤네요 ^^ 아이가 넘 좋아해요. 커튼콜 촬영가능하고 아...\n",
       "                              ...                        \n",
       "7275                                              기도합니다. \n",
       "7276     정말 감동 그 자체입니다.초등학교4학년 딸아이와 아이친구를 데리고 가서 봤는데 아...\n",
       "7277                                생생한 성령의감동과 은혜가 넘쳤어요! \n",
       "7278     방역 소독 철저히 하고 입장했어요~뮤지컬 너무 퀄리티 좋았고 같이 관람한 언니도,...\n",
       "7279              매번 공연 바뀔때마다 보고있는데요.너무 만족스럽고, 또 보러갈꺼에요. \n",
       "Name: 리뷰 내용, Length: 7280, dtype: object"
      ]
     },
     "execution_count": 5,
     "metadata": {},
     "output_type": "execute_result"
    }
   ],
   "source": [
    "raw_review"
   ]
  },
  {
   "cell_type": "code",
   "execution_count": 6,
   "metadata": {},
   "outputs": [
    {
     "data": {
      "text/plain": [
       "pandas.core.series.Series"
      ]
     },
     "execution_count": 6,
     "metadata": {},
     "output_type": "execute_result"
    }
   ],
   "source": [
    "type(raw_review)"
   ]
  },
  {
   "cell_type": "markdown",
   "metadata": {},
   "source": [
    "# Preprocessing \n",
    "* 맞춤법 체크: https://github.com/ssut/py-hanspell"
   ]
  },
  {
   "cell_type": "code",
   "execution_count": 16,
   "metadata": {},
   "outputs": [],
   "source": [
    "from konlpy.tag import Okt\n",
    "from collections import Counter\n",
    "import collections\n",
    "\n",
    "# 맞춤법 체크\n",
    "from hanspell import spell_checker"
   ]
  },
  {
   "cell_type": "code",
   "execution_count": 17,
   "metadata": {},
   "outputs": [],
   "source": [
    "# Okt 객체 선언\n",
    "okt = Okt()"
   ]
  },
  {
   "cell_type": "markdown",
   "metadata": {},
   "source": [
    "## 명사만 분리\n",
    "* Noun인 경우만 분리!"
   ]
  },
  {
   "cell_type": "code",
   "execution_count": 19,
   "metadata": {},
   "outputs": [],
   "source": [
    "def segmentation_sub(tagged_review):\n",
    "    noun = []\n",
    "    noun_count = 0\n",
    "    for sentence in tagged_review:\n",
    "        if sentence[1] == 'Noun':\n",
    "            noun.append(sentence)\n",
    "            noun_count += 1\n",
    "        else: continue\n",
    "    return noun, noun_count"
   ]
  },
  {
   "cell_type": "markdown",
   "metadata": {},
   "source": [
    "## 전처리 최종 함수"
   ]
  },
  {
   "cell_type": "code",
   "execution_count": 20,
   "metadata": {},
   "outputs": [],
   "source": [
    "def noun_segmentation(review):\n",
    "    \n",
    "    ### (1) 정제 ###\n",
    "    \n",
    "    # 텍스트 양옆 공백 제거\n",
    "    review = review.strip()\n",
    "    \n",
    "    # ParseError 일으키는 특수문자 제거\n",
    "    review = review.replace(\"&\", \" and \")\n",
    "    review = review.replace(\"~\", \"\")\n",
    "    \n",
    "    # 텍스트 중간 공백은 하나만 남기기\n",
    "    review = \" \".join(review.split())\n",
    "    \n",
    "    ### (2) 맞춤법 체크 ###\n",
    "    try:\n",
    "        spell_check = spell_checker.check(review)\n",
    "        spell_dict = spell_check.as_dict()\n",
    "\n",
    "        if spell_dict['result'] == True:\n",
    "            # 맞춤법 체크 성공 >> True가 나오는 경우\n",
    "            spelled = spell_dict['checked']\n",
    "            spell_result = \"TRUE\"\n",
    "\n",
    "        else:\n",
    "            # 맞춤법 체크 실패 >> False가 나오는 경우\n",
    "            spelled = review\n",
    "            spell_result = \"FALSE\"\n",
    "\n",
    "    except:\n",
    "        spelled = review\n",
    "        spell_result = \"FALSE\"\n",
    "        \n",
    "    ### (3) 토큰화 및 품사태깅 ###\n",
    "    tagged_review = okt.pos(spelled)\n",
    "    \n",
    "    ### (4) 명사 분리 ###\n",
    "    noun, count = segmentation_sub(tagged_review)\n",
    "    \n",
    "    return noun, count, tagged_review"
   ]
  },
  {
   "cell_type": "markdown",
   "metadata": {},
   "source": [
    "## 전처리 및 저장"
   ]
  },
  {
   "cell_type": "code",
   "execution_count": 21,
   "metadata": {},
   "outputs": [
    {
     "name": "stderr",
     "output_type": "stream",
     "text": [
      "100%|██████████████████████████████████████████████████████████████████████████████| 7280/7280 [17:14<00:00,  7.04it/s]\n"
     ]
    }
   ],
   "source": [
    "tagged_noun = []\n",
    "noun_count = []\n",
    "tagged_review = []\n",
    "\n",
    "for review in tqdm(raw_review):\n",
    "    noun, count, tagged = noun_segmentation(review)\n",
    "    \n",
    "    tagged_noun.append(noun)\n",
    "    noun_count.append(count)\n",
    "    tagged_review.append(tagged)\n",
    "    \n",
    "    time.sleep(0.05)"
   ]
  },
  {
   "cell_type": "markdown",
   "metadata": {},
   "source": [
    "# 명사만 추출"
   ]
  },
  {
   "cell_type": "code",
   "execution_count": 22,
   "metadata": {},
   "outputs": [],
   "source": [
    "def sub_func(review):\n",
    "    noun = []\n",
    "    for sentence in review:\n",
    "        noun.append(sentence[0])\n",
    "    return noun"
   ]
  },
  {
   "cell_type": "code",
   "execution_count": 23,
   "metadata": {},
   "outputs": [
    {
     "name": "stderr",
     "output_type": "stream",
     "text": [
      "100%|██████████████████████████████████████████████████████████████████████████| 7280/7280 [00:00<00:00, 352450.32it/s]\n"
     ]
    }
   ],
   "source": [
    "noun = []\n",
    "for review in tqdm(tagged_noun):\n",
    "    w = sub_func(review)\n",
    "    \n",
    "    noun.append(w)"
   ]
  },
  {
   "cell_type": "markdown",
   "metadata": {},
   "source": [
    "## 명사 빈도"
   ]
  },
  {
   "cell_type": "code",
   "execution_count": 34,
   "metadata": {},
   "outputs": [],
   "source": [
    "# 단일 리스트로 만들기\n",
    "noun_list = []\n",
    "for w in noun:\n",
    "    noun_list += w"
   ]
  },
  {
   "cell_type": "code",
   "execution_count": 35,
   "metadata": {},
   "outputs": [],
   "source": [
    "counts = collections.Counter(noun_list)"
   ]
  },
  {
   "cell_type": "code",
   "execution_count": 36,
   "metadata": {},
   "outputs": [
    {
     "data": {
      "text/plain": [
       "collections.Counter"
      ]
     },
     "execution_count": 36,
     "metadata": {},
     "output_type": "execute_result"
    }
   ],
   "source": [
    "type(counts)"
   ]
  },
  {
   "cell_type": "markdown",
   "metadata": {},
   "source": [
    "## 내림차순 정리"
   ]
  },
  {
   "cell_type": "code",
   "execution_count": 38,
   "metadata": {},
   "outputs": [],
   "source": [
    "count_sort = sorted(counts.items(), key=lambda k:k[1], reverse=True)"
   ]
  },
  {
   "cell_type": "code",
   "execution_count": 39,
   "metadata": {},
   "outputs": [
    {
     "data": {
      "text/plain": [
       "[('배우', 1926),\n",
       " ('공연', 1457),\n",
       " ('연극', 1276),\n",
       " ('연기', 1255),\n",
       " ('아이', 1121),\n",
       " ('정말', 1061),\n",
       " ('시간', 1032),\n",
       " ('보고', 937),\n",
       " ('뮤지컬', 752),\n",
       " ('것', 697),\n",
       " ('수', 615),\n",
       " ('노래', 553),\n",
       " ('최고', 550),\n",
       " ('또', 520),\n",
       " ('감동', 511),\n",
       " ('만', 471),\n",
       " ('진짜', 470),\n",
       " ('더', 462),\n",
       " ('거', 436),\n",
       " ('관람', 400),\n",
       " ('무대', 374),\n",
       " ('번', 374),\n",
       " ('추천', 367),\n",
       " ('안', 363),\n",
       " ('내용', 349),\n",
       " ('생각', 347),\n",
       " ('분', 346),\n",
       " ('중간', 337),\n",
       " ('코로나', 322),\n",
       " ('볼', 286)]"
      ]
     },
     "execution_count": 39,
     "metadata": {},
     "output_type": "execute_result"
    }
   ],
   "source": [
    "# 상위 30개만\n",
    "visualization = sorted(counts.items(), key=lambda k:k[1], reverse=True)[:30]; visualization"
   ]
  },
  {
   "cell_type": "code",
   "execution_count": 40,
   "metadata": {},
   "outputs": [],
   "source": [
    "score = []\n",
    "name = []\n",
    "for w in visualization:\n",
    "    name.append(w[0])\n",
    "    score.append(w[1])"
   ]
  },
  {
   "cell_type": "markdown",
   "metadata": {},
   "source": [
    "# 시각화 | 30개 정도만"
   ]
  },
  {
   "cell_type": "code",
   "execution_count": 41,
   "metadata": {},
   "outputs": [],
   "source": [
    "import matplotlib.pyplot as plt"
   ]
  },
  {
   "cell_type": "code",
   "execution_count": 42,
   "metadata": {},
   "outputs": [],
   "source": [
    "plt.rc(\"font\", family=\"Malgun Gothic\")\n",
    "plt.rc(\"axes\", unicode_minus=False)\n",
    "\n",
    "# 레티나 디스플레이로 폰트가 선명하게 표시되도록 함\n",
    "from IPython.display import set_matplotlib_formats\n",
    "set_matplotlib_formats(\"retina\")"
   ]
  },
  {
   "cell_type": "code",
   "execution_count": 43,
   "metadata": {},
   "outputs": [
    {
     "data": {
      "image/png": "[encoded data removed]",
      "text/plain": [
       "<Figure size 864x504 with 1 Axes>"
      ]
     },
     "metadata": {
      "image/png": {
       "height": 412,
       "width": 724
      },
      "needs_background": "light"
     },
     "output_type": "display_data"
    }
   ],
   "source": [
    "plt.figure(figsize=(12,7))\n",
    "plt.barh(name,score)\n",
    "plt.show()"
   ]
  },
  {
   "cell_type": "markdown",
   "metadata": {},
   "source": [
    "# 기존 raw 데이터프레임에 추가 삽입"
   ]
  },
  {
   "cell_type": "code",
   "execution_count": 44,
   "metadata": {},
   "outputs": [],
   "source": [
    "# 전처리 파일\n",
    "raw['Noun count'] = noun_count\n",
    "raw['Tagged Noun'] = tagged_noun\n",
    "raw['Noun'] = noun\n",
    "raw['Tagged review'] = tagged_review"
   ]
  },
  {
   "cell_type": "markdown",
   "metadata": {},
   "source": [
    "# 명사 빈도 데이터 프레임"
   ]
  },
  {
   "cell_type": "code",
   "execution_count": 49,
   "metadata": {},
   "outputs": [],
   "source": [
    "score = []\n",
    "name = []\n",
    "for w in count_sort:\n",
    "    name.append(w[0])\n",
    "    score.append(w[1])"
   ]
  },
  {
   "cell_type": "code",
   "execution_count": 50,
   "metadata": {},
   "outputs": [],
   "source": [
    "# 명사 빈도 파일\n",
    "counts_df = pd.DataFrame({'Noun':name, 'Frequency': score})"
   ]
  },
  {
   "cell_type": "markdown",
   "metadata": {},
   "source": [
    "# 엑셀파일 저장"
   ]
  },
  {
   "cell_type": "code",
   "execution_count": 46,
   "metadata": {},
   "outputs": [],
   "source": [
    "import xlsxwriter"
   ]
  },
  {
   "cell_type": "markdown",
   "metadata": {},
   "source": [
    "## 전처리 파일"
   ]
  },
  {
   "cell_type": "code",
   "execution_count": null,
   "metadata": {},
   "outputs": [],
   "source": [
    "writer = pd.ExcelWriter(\n",
    "    'tagged_sentence_review.xlsx',\n",
    "    engine = 'xlsxwriter'\n",
    ")\n",
    "\n",
    "raw.to_excel(writer, sheet_name = \"preprocessed\")\n",
    "writer.save()"
   ]
  },
  {
   "cell_type": "markdown",
   "metadata": {},
   "source": [
    "## 명사 빈도 파일"
   ]
  },
  {
   "cell_type": "code",
   "execution_count": 52,
   "metadata": {},
   "outputs": [],
   "source": [
    "writer = pd.ExcelWriter(\n",
    "    'noun_frequency.xlsx',\n",
    "    engine = 'xlsxwriter'\n",
    ")\n",
    "\n",
    "counts_df.to_excel(writer, sheet_name = \"frequency\")\n",
    "writer.save()"
   ]
  },
  {
   "cell_type": "code",
   "execution_count": null,
   "metadata": {},
   "outputs": [],
   "source": []
  }
 ],
 "metadata": {
  "kernelspec": {
   "display_name": "Python 3",
   "language": "python",
   "name": "python3"
  },
  "language_info": {
   "codemirror_mode": {
    "name": "ipython",
    "version": 3
   },
   "file_extension": ".py",
   "mimetype": "text/x-python",
   "name": "python",
   "nbconvert_exporter": "python",
   "pygments_lexer": "ipython3",
   "version": "3.8.5"
  },
  "toc": {
   "base_numbering": 1,
   "nav_menu": {},
   "number_sections": true,
   "sideBar": true,
   "skip_h1_title": false,
   "title_cell": "Table of Contents",
   "title_sidebar": "Contents",
   "toc_cell": false,
   "toc_position": {},
   "toc_section_display": true,
   "toc_window_display": true
  },
  "varInspector": {
   "cols": {
    "lenName": 16,
    "lenType": 16,
    "lenVar": 40
   },
   "kernels_config": {
    "python": {
     "delete_cmd_postfix": "",
     "delete_cmd_prefix": "del ",
     "library": "var_list.py",
     "varRefreshCmd": "print(var_dic_list())"
    },
    "r": {
     "delete_cmd_postfix": ") ",
     "delete_cmd_prefix": "rm(",
     "library": "var_list.r",
     "varRefreshCmd": "cat(var_dic_list()) "
    }
   },
   "types_to_exclude": [
    "module",
    "function",
    "builtin_function_or_method",
    "instance",
    "_Feature"
   ],
   "window_display": false
  }
 },
 "nbformat": 4,
 "nbformat_minor": 4
}
